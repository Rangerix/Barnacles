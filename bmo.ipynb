{
 "cells": [
  {
   "cell_type": "code",
   "execution_count": 2,
   "metadata": {},
   "outputs": [],
   "source": [
    "import cv2\n",
    "import sys, math, time, random\n",
    "from datetime import datetime\n",
    "from copy import deepcopy\n",
    "import numpy as np\n",
    "import matplotlib.pyplot as plt\n",
    "\n"
   ]
  },
  {
   "cell_type": "code",
   "execution_count": 3,
   "metadata": {},
   "outputs": [],
   "source": [
    "def sigmoid(gamma):     #convert to probability\n",
    "\tif gamma < 0:\n",
    "\t\treturn 1 - 1/(1 + math.exp(gamma/5))\n",
    "\telse:\n",
    "\t\treturn 1/(1 + math.exp(-gamma/5))\n",
    "\n",
    "def Vfunction(gamma):\n",
    "\t# return abs(np.tanh(gamma))\n",
    "\n",
    "\t#another V-shaped function\n",
    "\tval=(math.pi/2)*gamma\n",
    "\tval=np.arctan(val)\n",
    "\tval=(2/math.pi)*val\n",
    "\treturn abs(val)\n",
    "\n",
    "def initialize(popSize,dimension):\n",
    "\tpopulation = np.zeros((popSize,dimension))\n",
    "\tminn = 0\n",
    "\tmaxx = 255\n",
    "\tfor i in range(popSize):\n",
    "\t\tfor j in range(dimension):\n",
    "\t\t\trandom.seed( i + j + time.time() )\n",
    "\t\t\tpopulation[i][j] = random.randint(minn,maxx)\n",
    "\t\tpopulation[i].sort()\n",
    "\t\tpopulation[i][0] = 0\n",
    "\t\tpopulation[i][dimension-1] = 255\n",
    "\treturn population\n",
    "\n",
    "\n"
   ]
  },
  {
   "cell_type": "code",
   "execution_count": 4,
   "metadata": {},
   "outputs": [],
   "source": [
    "def fitness(agentCurr,inputAgent,inputImage,iterNo):\n",
    "\t# fitness\n",
    "\t# laplacian = cv2.Laplacian(img,cv2.CV_64F)\n",
    "\timg = deepcopy(inputImage)\n",
    "\timg2 = transformImage(agentCurr,inputAgent,inputImage,iterNo)\n",
    "\tedges = cv2.Canny(img2,100,200)\n",
    "\tcount=0\n",
    "\tintsum=1.1      \n",
    "\ttmp=deepcopy(img2)\n",
    "\tdimensions=img2.shape\n",
    "\tfor r in range(0,dimensions[0]):\n",
    "\t\tfor c in range(0,dimensions[1]):\n",
    "\t\t\tif (edges[r,c]==255):\n",
    "\t\t\t\tcount+=1\n",
    "\t\t\t\ttmp[r,c]=-1\n",
    "\t\t\t\tintsum+=img2[r,c]\n",
    "\t\n",
    "\t#entropy of image\n",
    "\tflatImg =  [x for sublist in img2 for x in sublist]\n",
    "\tuniqImg = set(flatImg)\n",
    "\tHx = 0\n",
    "\tfor x in uniqImg:\n",
    "\t\tp_x = flatImg.count(x) / len(uniqImg)\n",
    "\t\tHx += ((- x) * (math.log2(p_x)))\n",
    "\t#Well, How about calling the in built entropy function?\n",
    "\t#Yep'\n",
    "\t# will try that one if this disappoints me\n",
    "\n",
    "\t# print('sum = ',sum,end=' ')\n",
    "\t# print('log(sum) = ',math.log(sum))\n",
    "\tstepSize = 5\n",
    "\tlocalcontrast=1.1\n",
    "\t(w_width, w_height) = (5, 5)\n",
    "\t\n",
    "\tfor x in range(0, tmp.shape[1] - w_width , stepSize):\n",
    "\t\tfor y in range(0, tmp.shape[0] - w_height, stepSize):\n",
    "\t\t\ttmp2 = tmp[x:x + w_width, y:y + w_height]\n",
    "\t\t\tlocalcontrast+=((max(tmp2.flatten()[~np.isin(tmp2.flatten(),-1)]))-(min(tmp2.flatten()[~np.isin(tmp2.flatten(),-1)])))\n",
    "\t\n",
    "\n",
    "\t\t\tfit=math.log(math.log(intsum))*Hx*(count)*(1.02**(-(np.mean(img2)-np.mean(img))**2))*((max(img2.flatten())-min(img2.flatten()))**2)*((localcontrast))    \n",
    "\treturn fit\n",
    "\n",
    "\n"
   ]
  },
  {
   "cell_type": "code",
   "execution_count": 17,
   "metadata": {},
   "outputs": [],
   "source": [
    "def allfit(population,inputAgent,inputImage,iterNo):\n",
    "\tx=np.shape(population)[0]\n",
    "\tacc=np.zeros(x)\n",
    "\tfor i in range(x):\n",
    "\t\tacc[i]=fitness(population[i],inputAgent,inputImage,iterNo)     \n",
    "\t\tprint(acc[i])\n",
    "\treturn acc\n",
    "\n"
   ]
  },
  {
   "cell_type": "code",
   "execution_count": 13,
   "metadata": {},
   "outputs": [],
   "source": [
    "def transformImage(currAgent,inputAgent,inputImage,iterNo):\n",
    "\ttarnsImage = inputImage.copy()\n",
    "\trow = np.shape(inputImage)[0]\n",
    "\tcol = np.shape(inputImage)[1]\n",
    "\tfor i in range(row):\n",
    "\t\tfor j in range(col):\n",
    "\t\t\tk = inputAgent.index(tarnsImage[i][j])\n",
    "\t\t\ttarnsImage[i][j] = currAgent[k]\n",
    "\t# cv2.imwrite(\"intermediate/\"+str(iterNo)+'_'+str(agentNo)+'.png',tarnsImage)\n",
    "\t# cv2.imshow('new image',tarnsImage)\n",
    "\t# cv2.waitKey(0)\n",
    "\t# cv2.destroyAllWindows()\n",
    "\treturn tarnsImage\n"
   ]
  },
  {
   "cell_type": "code",
   "execution_count": 14,
   "metadata": {},
   "outputs": [],
   "source": [
    "popSize = 5\n",
    "maxIter = 5\n",
    "imageName = 'InputImages/kodakDataset/kodim01.png'"
   ]
  },
  {
   "cell_type": "code",
   "execution_count": null,
   "metadata": {},
   "outputs": [
    {
     "name": "stdout",
     "output_type": "stream",
     "text": [
      "(512, 768)\n",
      "[81, 82, 83, 84, 85, 86, 87, 88, 89, 90, 91, 92, 93, 94, 95, 96, 97, 98, 99, 100, 101, 102, 103, 104, 105, 106, 107, 108, 109, 110, 111, 112, 113, 114, 115, 116, 117, 118, 119, 120, 121, 122, 123, 124, 125, 126, 127, 128, 129, 130, 131, 132, 133, 134, 135, 136, 137, 138, 139, 140, 141, 142, 143, 144, 145, 146, 147, 148, 149, 150, 151, 152, 153, 154, 155, 156, 157, 158, 159, 160, 161, 162, 163, 164, 165, 166, 167, 168, 169, 170, 171, 172, 173, 174]\n"
     ]
    }
   ],
   "source": [
    "img = cv2.imread(imageName,0)\n",
    "print(np.shape(img))\n",
    "\n",
    "flatImg =  [x for sublist in img for x in sublist]\n",
    "# print(flatImg)\n",
    "uniqImg = set(flatImg)\n",
    "agentLength = len(uniqImg)\n",
    "agentImg = list(uniqImg)\n",
    "agentImg.sort()\n",
    "print(agentImg)\n",
    "\n",
    "x_axis = []\n",
    "y_axis = []\n",
    "\n",
    "population = initialize(popSize,agentLength)\n",
    "# print(population)\n",
    "dimension = agentLength\n",
    "\n",
    "start_time = datetime.now()\n",
    "fitList = allfit(population,agentImg,img,0)\n",
    "temp = [-x for x in fitList]\n",
    "#sort agents\n",
    "population = [x for _,x in sorted(zip(temp,population))]\n",
    "fitList.sort()\n",
    "fitList.reverse()\n",
    "\n"
   ]
  },
  {
   "cell_type": "code",
   "execution_count": null,
   "metadata": {},
   "outputs": [],
   "source": [
    "vals = im.mean(axis=2).flatten()\n",
    "# plot histogram with 255 bins\n",
    "b, bins, patches = plt.hist(vals, 255)\n",
    "plt.xlim([0,255])\n",
    "plt.show()"
   ]
  },
  {
   "cell_type": "code",
   "execution_count": null,
   "metadata": {},
   "outputs": [],
   "source": [
    "counts, bins = np.histogram(data)"
   ]
  },
  {
   "cell_type": "code",
   "execution_count": 18,
   "metadata": {},
   "outputs": [
    {
     "name": "stdout",
     "output_type": "stream",
     "text": [
      "(512, 768)\n"
     ]
    },
    {
     "ename": "KeyboardInterrupt",
     "evalue": "",
     "output_type": "error",
     "traceback": [
      "\u001b[0;31m--------------------------------------------------------\u001b[0m",
      "\u001b[0;31mKeyboardInterrupt\u001b[0m      Traceback (most recent call last)",
      "\u001b[0;32m<ipython-input-18-220b9a287553>\u001b[0m in \u001b[0;36m<module>\u001b[0;34m\u001b[0m\n\u001b[1;32m     18\u001b[0m \u001b[0;34m\u001b[0m\u001b[0m\n\u001b[1;32m     19\u001b[0m \u001b[0mstart_time\u001b[0m \u001b[0;34m=\u001b[0m \u001b[0mdatetime\u001b[0m\u001b[0;34m.\u001b[0m\u001b[0mnow\u001b[0m\u001b[0;34m(\u001b[0m\u001b[0;34m)\u001b[0m\u001b[0;34m\u001b[0m\u001b[0;34m\u001b[0m\u001b[0m\n\u001b[0;32m---> 20\u001b[0;31m \u001b[0mfitList\u001b[0m \u001b[0;34m=\u001b[0m \u001b[0mallfit\u001b[0m\u001b[0;34m(\u001b[0m\u001b[0mpopulation\u001b[0m\u001b[0;34m,\u001b[0m\u001b[0magentImg\u001b[0m\u001b[0;34m,\u001b[0m\u001b[0mimg\u001b[0m\u001b[0;34m,\u001b[0m\u001b[0;36m0\u001b[0m\u001b[0;34m)\u001b[0m\u001b[0;34m\u001b[0m\u001b[0;34m\u001b[0m\u001b[0m\n\u001b[0m\u001b[1;32m     21\u001b[0m \u001b[0mtemp\u001b[0m \u001b[0;34m=\u001b[0m \u001b[0;34m[\u001b[0m\u001b[0;34m-\u001b[0m\u001b[0mx\u001b[0m \u001b[0;32mfor\u001b[0m \u001b[0mx\u001b[0m \u001b[0;32min\u001b[0m \u001b[0mfitList\u001b[0m\u001b[0;34m]\u001b[0m\u001b[0;34m\u001b[0m\u001b[0;34m\u001b[0m\u001b[0m\n\u001b[1;32m     22\u001b[0m \u001b[0;31m#sort agents\u001b[0m\u001b[0;34m\u001b[0m\u001b[0;34m\u001b[0m\u001b[0;34m\u001b[0m\u001b[0m\n",
      "\u001b[0;32m<ipython-input-17-3e41800c7014>\u001b[0m in \u001b[0;36mallfit\u001b[0;34m(population, inputAgent, inputImage, iterNo)\u001b[0m\n\u001b[1;32m      3\u001b[0m         \u001b[0macc\u001b[0m\u001b[0;34m=\u001b[0m\u001b[0mnp\u001b[0m\u001b[0;34m.\u001b[0m\u001b[0mzeros\u001b[0m\u001b[0;34m(\u001b[0m\u001b[0mx\u001b[0m\u001b[0;34m)\u001b[0m\u001b[0;34m\u001b[0m\u001b[0;34m\u001b[0m\u001b[0m\n\u001b[1;32m      4\u001b[0m         \u001b[0;32mfor\u001b[0m \u001b[0mi\u001b[0m \u001b[0;32min\u001b[0m \u001b[0mrange\u001b[0m\u001b[0;34m(\u001b[0m\u001b[0mx\u001b[0m\u001b[0;34m)\u001b[0m\u001b[0;34m:\u001b[0m\u001b[0;34m\u001b[0m\u001b[0;34m\u001b[0m\u001b[0m\n\u001b[0;32m----> 5\u001b[0;31m                 \u001b[0macc\u001b[0m\u001b[0;34m[\u001b[0m\u001b[0mi\u001b[0m\u001b[0;34m]\u001b[0m\u001b[0;34m=\u001b[0m\u001b[0mfitness\u001b[0m\u001b[0;34m(\u001b[0m\u001b[0mpopulation\u001b[0m\u001b[0;34m[\u001b[0m\u001b[0mi\u001b[0m\u001b[0;34m]\u001b[0m\u001b[0;34m,\u001b[0m\u001b[0minputAgent\u001b[0m\u001b[0;34m,\u001b[0m\u001b[0minputImage\u001b[0m\u001b[0;34m,\u001b[0m\u001b[0miterNo\u001b[0m\u001b[0;34m)\u001b[0m\u001b[0;34m\u001b[0m\u001b[0;34m\u001b[0m\u001b[0m\n\u001b[0m\u001b[1;32m      6\u001b[0m                 \u001b[0mprint\u001b[0m\u001b[0;34m(\u001b[0m\u001b[0macc\u001b[0m\u001b[0;34m[\u001b[0m\u001b[0mi\u001b[0m\u001b[0;34m]\u001b[0m\u001b[0;34m)\u001b[0m\u001b[0;34m\u001b[0m\u001b[0;34m\u001b[0m\u001b[0m\n\u001b[1;32m      7\u001b[0m         \u001b[0;32mreturn\u001b[0m \u001b[0macc\u001b[0m\u001b[0;34m\u001b[0m\u001b[0;34m\u001b[0m\u001b[0m\n",
      "\u001b[0;32m<ipython-input-4-546e8cf70eed>\u001b[0m in \u001b[0;36mfitness\u001b[0;34m(agentCurr, inputAgent, inputImage, iterNo)\u001b[0m\n\u001b[1;32m     39\u001b[0m \u001b[0;34m\u001b[0m\u001b[0m\n\u001b[1;32m     40\u001b[0m \u001b[0;34m\u001b[0m\u001b[0m\n\u001b[0;32m---> 41\u001b[0;31m                         \u001b[0mfit\u001b[0m\u001b[0;34m=\u001b[0m\u001b[0mmath\u001b[0m\u001b[0;34m.\u001b[0m\u001b[0mlog\u001b[0m\u001b[0;34m(\u001b[0m\u001b[0mmath\u001b[0m\u001b[0;34m.\u001b[0m\u001b[0mlog\u001b[0m\u001b[0;34m(\u001b[0m\u001b[0mintsum\u001b[0m\u001b[0;34m)\u001b[0m\u001b[0;34m)\u001b[0m\u001b[0;34m*\u001b[0m\u001b[0mHx\u001b[0m\u001b[0;34m*\u001b[0m\u001b[0;34m(\u001b[0m\u001b[0mcount\u001b[0m\u001b[0;34m)\u001b[0m\u001b[0;34m*\u001b[0m\u001b[0;34m(\u001b[0m\u001b[0;36m1.02\u001b[0m\u001b[0;34m**\u001b[0m\u001b[0;34m(\u001b[0m\u001b[0;34m-\u001b[0m\u001b[0;34m(\u001b[0m\u001b[0mnp\u001b[0m\u001b[0;34m.\u001b[0m\u001b[0mmean\u001b[0m\u001b[0;34m(\u001b[0m\u001b[0mimg2\u001b[0m\u001b[0;34m)\u001b[0m\u001b[0;34m-\u001b[0m\u001b[0mnp\u001b[0m\u001b[0;34m.\u001b[0m\u001b[0mmean\u001b[0m\u001b[0;34m(\u001b[0m\u001b[0mimg\u001b[0m\u001b[0;34m)\u001b[0m\u001b[0;34m)\u001b[0m\u001b[0;34m**\u001b[0m\u001b[0;36m2\u001b[0m\u001b[0;34m)\u001b[0m\u001b[0;34m)\u001b[0m\u001b[0;34m*\u001b[0m\u001b[0;34m(\u001b[0m\u001b[0;34m(\u001b[0m\u001b[0mmax\u001b[0m\u001b[0;34m(\u001b[0m\u001b[0mimg2\u001b[0m\u001b[0;34m.\u001b[0m\u001b[0mflatten\u001b[0m\u001b[0;34m(\u001b[0m\u001b[0;34m)\u001b[0m\u001b[0;34m)\u001b[0m\u001b[0;34m-\u001b[0m\u001b[0mmin\u001b[0m\u001b[0;34m(\u001b[0m\u001b[0mimg2\u001b[0m\u001b[0;34m.\u001b[0m\u001b[0mflatten\u001b[0m\u001b[0;34m(\u001b[0m\u001b[0;34m)\u001b[0m\u001b[0;34m)\u001b[0m\u001b[0;34m)\u001b[0m\u001b[0;34m**\u001b[0m\u001b[0;36m2\u001b[0m\u001b[0;34m)\u001b[0m\u001b[0;34m*\u001b[0m\u001b[0;34m(\u001b[0m\u001b[0;34m(\u001b[0m\u001b[0mlocalcontrast\u001b[0m\u001b[0;34m)\u001b[0m\u001b[0;34m)\u001b[0m\u001b[0;34m\u001b[0m\u001b[0;34m\u001b[0m\u001b[0m\n\u001b[0m\u001b[1;32m     42\u001b[0m         \u001b[0;32mreturn\u001b[0m \u001b[0mfit\u001b[0m\u001b[0;34m\u001b[0m\u001b[0;34m\u001b[0m\u001b[0m\n\u001b[1;32m     43\u001b[0m \u001b[0;34m\u001b[0m\u001b[0m\n",
      "\u001b[0;31mKeyboardInterrupt\u001b[0m: "
     ]
    }
   ],
   "source": [
    "\n",
    "receivedList = []\n",
    "while currIter in range(1,maxIter):\n",
    "    area = int(0.5 * popSize)\n",
    "    random.seed(time.time() + 10 )\n",
    "    parent1 = random.randint(0,popSize-1)\n",
    "    random.seed(time.time() + 19 )\n",
    "    parent2 = random.randint(0,popSize-1)\n",
    "    while(parent2 == parent1 and parent2 in receivedList):\n",
    "        parent2 = random.randint(0,popSize-1)\n",
    "    receivedList.append(parent2)\n",
    "    print(fitList[parent1],fitList[parent2])\n",
    "    \n",
    "    random.seed(time.time() + 29 )\n",
    "    offspring = np.multiply(random.random(),population[parent2])\n",
    "    if abs(parent1 - parent2 )<= area:\n",
    "        p = random.uniform() # we can make this ratio based on their fitness\n",
    "        q = (1 - p)\n",
    "        offspring = np.add(np.multiply(p,population[parent1]),np.multiply(q,population[parent2]))\n",
    "\n",
    "    currFit = fitness(offspring,inputAgent,inputImage,currIter)\n",
    "    inx = next(idx for idx, value in enumerate(fitList) if value < currFit)\t\n",
    "    if inx<popSize:\n",
    "        np.insert(population,inx,offspring,axis=0)\n",
    "        print('after inserting offspring',np.shape(population))\n",
    "        np.delete(population,popSize-1,axis=0)\n",
    "        print('after deleting offspring',np.shape(population))\n",
    "        receivedList.remove(inx)\n",
    "        fitList.insert(inx,currFit)\n",
    "bestAgent = population[0].copy()\n",
    "bestImage = transformImage(bestAgent,inputAgent,inputImage,maxIter)\n",
    "transImageName = imageName.split('/')[-1]\n",
    "transImageName = \"t_\"+transImageName\n",
    "cv2.imwrite(\"output/\"+transImageName,tarnsImage)\n",
    "\n",
    "histr = cv2.calcHist([outputImage],[0],None,[256],[0,256]) \n",
    "plt.plot(histr)\n",
    "plt.show()"
   ]
  },
  {
   "cell_type": "code",
   "execution_count": null,
   "metadata": {},
   "outputs": [],
   "source": []
  }
 ],
 "metadata": {
  "kernelspec": {
   "display_name": "Python 3",
   "language": "python",
   "name": "python3"
  },
  "language_info": {
   "codemirror_mode": {
    "name": "ipython",
    "version": 3
   },
   "file_extension": ".py",
   "mimetype": "text/x-python",
   "name": "python",
   "nbconvert_exporter": "python",
   "pygments_lexer": "ipython3",
   "version": "3.7.5"
  }
 },
 "nbformat": 4,
 "nbformat_minor": 4
}
